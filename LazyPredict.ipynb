{
 "cells": [
  {
   "cell_type": "code",
   "execution_count": 15,
   "id": "afb9a7b7",
   "metadata": {},
   "outputs": [
    {
     "name": "stderr",
     "output_type": "stream",
     "text": [
      " 31%|█████████████████████████▊                                                         | 9/29 [00:00<00:01, 11.72it/s]C:\\Users\\Olayinka Akerekan\\Anaconda3\\lib\\site-packages\\sklearn\\semi_supervised\\_label_propagation.py:222: RuntimeWarning: invalid value encountered in true_divide\n",
      "  probabilities /= normalizer\n",
      " 41%|█████████████████████████████████▉                                                | 12/29 [00:00<00:01, 15.04it/s]C:\\Users\\Olayinka Akerekan\\Anaconda3\\lib\\site-packages\\sklearn\\semi_supervised\\_label_propagation.py:222: RuntimeWarning: invalid value encountered in true_divide\n",
      "  probabilities /= normalizer\n",
      "100%|██████████████████████████████████████████████████████████████████████████████████| 29/29 [00:01<00:00, 15.11it/s]"
     ]
    },
    {
     "name": "stdout",
     "output_type": "stream",
     "text": [
      "                               Accuracy  Balanced Accuracy  ROC AUC  F1 Score  Time Taken\n",
      "Model                                                                                    \n",
      "LinearSVC                          0.99               0.99     0.99      0.99        0.03\n",
      "Perceptron                         0.99               0.98     0.98      0.99        0.01\n",
      "LogisticRegression                 0.99               0.98     0.98      0.99        0.05\n",
      "SVC                                0.98               0.98     0.98      0.98        0.03\n",
      "XGBClassifier                      0.98               0.98     0.98      0.98        0.10\n",
      "LabelPropagation                   0.98               0.97     0.97      0.98        0.04\n",
      "LabelSpreading                     0.98               0.97     0.97      0.98        0.05\n",
      "BaggingClassifier                  0.97               0.97     0.97      0.97        0.08\n",
      "PassiveAggressiveClassifier        0.98               0.97     0.97      0.98        0.02\n",
      "SGDClassifier                      0.98               0.97     0.97      0.98        0.02\n",
      "RandomForestClassifier             0.97               0.97     0.97      0.97        0.36\n",
      "CalibratedClassifierCV             0.98               0.97     0.97      0.98        0.07\n",
      "LGBMClassifier                     0.97               0.97     0.97      0.97        0.12\n",
      "QuadraticDiscriminantAnalysis      0.96               0.97     0.97      0.97        0.02\n",
      "ExtraTreesClassifier               0.97               0.96     0.96      0.97        0.27\n",
      "RidgeClassifierCV                  0.97               0.96     0.96      0.97        0.03\n",
      "RidgeClassifier                    0.97               0.96     0.96      0.97        0.03\n",
      "AdaBoostClassifier                 0.96               0.96     0.96      0.96        0.28\n",
      "KNeighborsClassifier               0.96               0.96     0.96      0.96        0.05\n",
      "BernoulliNB                        0.95               0.95     0.95      0.95        0.02\n",
      "LinearDiscriminantAnalysis         0.96               0.95     0.95      0.96        0.03\n",
      "GaussianNB                         0.95               0.95     0.95      0.95        0.03\n",
      "NuSVC                              0.95               0.94     0.94      0.95        0.04\n",
      "ExtraTreeClassifier                0.94               0.93     0.93      0.94        0.02\n",
      "NearestCentroid                    0.95               0.93     0.93      0.95        0.03\n",
      "DecisionTreeClassifier             0.93               0.93     0.93      0.93        0.03\n",
      "DummyClassifier                    0.64               0.50     0.50      0.50        0.03\n"
     ]
    },
    {
     "name": "stderr",
     "output_type": "stream",
     "text": [
      "\n"
     ]
    }
   ],
   "source": [
    "from lazypredict.Supervised import LazyClassifier\n",
    "from sklearn.datasets import load_breast_cancer\n",
    "from sklearn.model_selection import train_test_split\n",
    "\n",
    "data = load_breast_cancer()\n",
    "X = data.data\n",
    "y= data.target\n",
    "\n",
    "X_train, X_test, y_train, y_test  = train_test_split(X, y, test_size = 0.5, random_state = 123)\n",
    "\n",
    "clf = LazyClassifier(verbose=0,ignore_warnings=True, custom_metric=None)\n",
    "models, predictions = clf.fit(X_train, X_test, y_train, y_test)\n",
    "print(models)"
   ]
  },
  {
   "cell_type": "code",
   "execution_count": null,
   "id": "d199a50b",
   "metadata": {},
   "outputs": [],
   "source": []
  },
  {
   "cell_type": "code",
   "execution_count": null,
   "id": "11ca2926",
   "metadata": {},
   "outputs": [],
   "source": []
  }
 ],
 "metadata": {
  "kernelspec": {
   "display_name": "Python 3 (ipykernel)",
   "language": "python",
   "name": "python3"
  },
  "language_info": {
   "codemirror_mode": {
    "name": "ipython",
    "version": 3
   },
   "file_extension": ".py",
   "mimetype": "text/x-python",
   "name": "python",
   "nbconvert_exporter": "python",
   "pygments_lexer": "ipython3",
   "version": "3.9.12"
  }
 },
 "nbformat": 4,
 "nbformat_minor": 5
}
